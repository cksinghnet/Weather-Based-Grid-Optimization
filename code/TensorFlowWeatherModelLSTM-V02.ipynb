{
 "cells": [
  {
   "cell_type": "code",
   "execution_count": 1,
   "id": "93ede55f",
   "metadata": {},
   "outputs": [],
   "source": [
    "import pandas as pd\n",
    "df=pd.read_csv(r'C:\\dataset\\weatherData\\weather_data.csv')"
   ]
  },
  {
   "cell_type": "code",
   "execution_count": 2,
   "id": "78936050",
   "metadata": {},
   "outputs": [],
   "source": [
    "df['Date'] = pd.to_datetime(df['Date'])"
   ]
  },
  {
   "cell_type": "code",
   "execution_count": 3,
   "id": "9f2c895c",
   "metadata": {},
   "outputs": [
    {
     "data": {
      "text/html": [
       "<div>\n",
       "<style scoped>\n",
       "    .dataframe tbody tr th:only-of-type {\n",
       "        vertical-align: middle;\n",
       "    }\n",
       "\n",
       "    .dataframe tbody tr th {\n",
       "        vertical-align: top;\n",
       "    }\n",
       "\n",
       "    .dataframe thead th {\n",
       "        text-align: right;\n",
       "    }\n",
       "</style>\n",
       "<table border=\"1\" class=\"dataframe\">\n",
       "  <thead>\n",
       "    <tr style=\"text-align: right;\">\n",
       "      <th></th>\n",
       "      <th>City</th>\n",
       "      <th>Date</th>\n",
       "      <th>Temperature (C)</th>\n",
       "      <th>Feels Like (C)</th>\n",
       "      <th>Humidity (%)</th>\n",
       "      <th>Pressure (hPa)</th>\n",
       "      <th>Weather Description</th>\n",
       "      <th>Wind Speed (m/s)</th>\n",
       "      <th>Cloudiness (%)</th>\n",
       "      <th>Rain (1h mm)</th>\n",
       "      <th>Sunrise</th>\n",
       "      <th>Sunset</th>\n",
       "    </tr>\n",
       "  </thead>\n",
       "  <tbody>\n",
       "    <tr>\n",
       "      <th>0</th>\n",
       "      <td>Delhi</td>\n",
       "      <td>1979-01-01 00:00:00</td>\n",
       "      <td>9.26</td>\n",
       "      <td>7.33</td>\n",
       "      <td>28</td>\n",
       "      <td>1086</td>\n",
       "      <td>clear</td>\n",
       "      <td>2.42</td>\n",
       "      <td>0</td>\n",
       "      <td>3.91</td>\n",
       "      <td>1979-01-01 06:29:00</td>\n",
       "      <td>1979-01-01 18:31:00</td>\n",
       "    </tr>\n",
       "    <tr>\n",
       "      <th>1</th>\n",
       "      <td>Delhi</td>\n",
       "      <td>1979-01-01 00:01:00</td>\n",
       "      <td>14.96</td>\n",
       "      <td>15.25</td>\n",
       "      <td>68</td>\n",
       "      <td>930</td>\n",
       "      <td>cold</td>\n",
       "      <td>1.23</td>\n",
       "      <td>49</td>\n",
       "      <td>5.16</td>\n",
       "      <td>1979-01-01 06:30:00</td>\n",
       "      <td>1979-01-01 18:31:00</td>\n",
       "    </tr>\n",
       "    <tr>\n",
       "      <th>2</th>\n",
       "      <td>Delhi</td>\n",
       "      <td>1979-01-01 00:02:00</td>\n",
       "      <td>3.93</td>\n",
       "      <td>2.00</td>\n",
       "      <td>33</td>\n",
       "      <td>990</td>\n",
       "      <td>windy</td>\n",
       "      <td>0.57</td>\n",
       "      <td>33</td>\n",
       "      <td>5.16</td>\n",
       "      <td>1979-01-01 06:28:00</td>\n",
       "      <td>1979-01-01 18:28:00</td>\n",
       "    </tr>\n",
       "    <tr>\n",
       "      <th>3</th>\n",
       "      <td>Delhi</td>\n",
       "      <td>1979-01-01 00:03:00</td>\n",
       "      <td>11.46</td>\n",
       "      <td>10.71</td>\n",
       "      <td>35</td>\n",
       "      <td>1034</td>\n",
       "      <td>windy</td>\n",
       "      <td>3.55</td>\n",
       "      <td>48</td>\n",
       "      <td>0.60</td>\n",
       "      <td>1979-01-01 06:32:00</td>\n",
       "      <td>1979-01-01 18:32:00</td>\n",
       "    </tr>\n",
       "  </tbody>\n",
       "</table>\n",
       "</div>"
      ],
      "text/plain": [
       "    City                Date  Temperature (C)  Feels Like (C)  Humidity (%)  \\\n",
       "0  Delhi 1979-01-01 00:00:00             9.26            7.33            28   \n",
       "1  Delhi 1979-01-01 00:01:00            14.96           15.25            68   \n",
       "2  Delhi 1979-01-01 00:02:00             3.93            2.00            33   \n",
       "3  Delhi 1979-01-01 00:03:00            11.46           10.71            35   \n",
       "\n",
       "   Pressure (hPa) Weather Description  Wind Speed (m/s)  Cloudiness (%)  \\\n",
       "0            1086               clear              2.42               0   \n",
       "1             930                cold              1.23              49   \n",
       "2             990               windy              0.57              33   \n",
       "3            1034               windy              3.55              48   \n",
       "\n",
       "   Rain (1h mm)              Sunrise               Sunset  \n",
       "0          3.91  1979-01-01 06:29:00  1979-01-01 18:31:00  \n",
       "1          5.16  1979-01-01 06:30:00  1979-01-01 18:31:00  \n",
       "2          5.16  1979-01-01 06:28:00  1979-01-01 18:28:00  \n",
       "3          0.60  1979-01-01 06:32:00  1979-01-01 18:32:00  "
      ]
     },
     "execution_count": 3,
     "metadata": {},
     "output_type": "execute_result"
    }
   ],
   "source": [
    "df.head(4)"
   ]
  },
  {
   "cell_type": "code",
   "execution_count": 4,
   "id": "a0af5877",
   "metadata": {},
   "outputs": [
    {
     "name": "stdout",
     "output_type": "stream",
     "text": [
      "City                           object\n",
      "Date                   datetime64[ns]\n",
      "Temperature (C)               float64\n",
      "Feels Like (C)                float64\n",
      "Humidity (%)                    int64\n",
      "Pressure (hPa)                  int64\n",
      "Weather Description            object\n",
      "Wind Speed (m/s)              float64\n",
      "Cloudiness (%)                  int64\n",
      "Rain (1h mm)                  float64\n",
      "Sunrise                        object\n",
      "Sunset                         object\n",
      "dtype: object\n"
     ]
    }
   ],
   "source": [
    "print(df.dtypes)"
   ]
  },
  {
   "cell_type": "code",
   "execution_count": 5,
   "id": "13017e1c",
   "metadata": {},
   "outputs": [
    {
     "data": {
      "text/html": [
       "<div>\n",
       "<style scoped>\n",
       "    .dataframe tbody tr th:only-of-type {\n",
       "        vertical-align: middle;\n",
       "    }\n",
       "\n",
       "    .dataframe tbody tr th {\n",
       "        vertical-align: top;\n",
       "    }\n",
       "\n",
       "    .dataframe thead th {\n",
       "        text-align: right;\n",
       "    }\n",
       "</style>\n",
       "<table border=\"1\" class=\"dataframe\">\n",
       "  <thead>\n",
       "    <tr style=\"text-align: right;\">\n",
       "      <th></th>\n",
       "      <th>City</th>\n",
       "      <th>Temperature (C)</th>\n",
       "      <th>Feels Like (C)</th>\n",
       "      <th>Humidity (%)</th>\n",
       "      <th>Pressure (hPa)</th>\n",
       "      <th>Weather Description</th>\n",
       "      <th>Wind Speed (m/s)</th>\n",
       "      <th>Cloudiness (%)</th>\n",
       "      <th>Rain (1h mm)</th>\n",
       "      <th>Sunrise</th>\n",
       "      <th>Sunset</th>\n",
       "    </tr>\n",
       "    <tr>\n",
       "      <th>Date</th>\n",
       "      <th></th>\n",
       "      <th></th>\n",
       "      <th></th>\n",
       "      <th></th>\n",
       "      <th></th>\n",
       "      <th></th>\n",
       "      <th></th>\n",
       "      <th></th>\n",
       "      <th></th>\n",
       "      <th></th>\n",
       "      <th></th>\n",
       "    </tr>\n",
       "  </thead>\n",
       "  <tbody>\n",
       "    <tr>\n",
       "      <th>1979-01-01 00:00:00</th>\n",
       "      <td>Delhi</td>\n",
       "      <td>9.26</td>\n",
       "      <td>7.33</td>\n",
       "      <td>28</td>\n",
       "      <td>1086</td>\n",
       "      <td>clear</td>\n",
       "      <td>2.42</td>\n",
       "      <td>0</td>\n",
       "      <td>3.91</td>\n",
       "      <td>1979-01-01 06:29:00</td>\n",
       "      <td>1979-01-01 18:31:00</td>\n",
       "    </tr>\n",
       "    <tr>\n",
       "      <th>1979-01-01 00:01:00</th>\n",
       "      <td>Delhi</td>\n",
       "      <td>14.96</td>\n",
       "      <td>15.25</td>\n",
       "      <td>68</td>\n",
       "      <td>930</td>\n",
       "      <td>cold</td>\n",
       "      <td>1.23</td>\n",
       "      <td>49</td>\n",
       "      <td>5.16</td>\n",
       "      <td>1979-01-01 06:30:00</td>\n",
       "      <td>1979-01-01 18:31:00</td>\n",
       "    </tr>\n",
       "    <tr>\n",
       "      <th>1979-01-01 00:02:00</th>\n",
       "      <td>Delhi</td>\n",
       "      <td>3.93</td>\n",
       "      <td>2.00</td>\n",
       "      <td>33</td>\n",
       "      <td>990</td>\n",
       "      <td>windy</td>\n",
       "      <td>0.57</td>\n",
       "      <td>33</td>\n",
       "      <td>5.16</td>\n",
       "      <td>1979-01-01 06:28:00</td>\n",
       "      <td>1979-01-01 18:28:00</td>\n",
       "    </tr>\n",
       "    <tr>\n",
       "      <th>1979-01-01 00:03:00</th>\n",
       "      <td>Delhi</td>\n",
       "      <td>11.46</td>\n",
       "      <td>10.71</td>\n",
       "      <td>35</td>\n",
       "      <td>1034</td>\n",
       "      <td>windy</td>\n",
       "      <td>3.55</td>\n",
       "      <td>48</td>\n",
       "      <td>0.60</td>\n",
       "      <td>1979-01-01 06:32:00</td>\n",
       "      <td>1979-01-01 18:32:00</td>\n",
       "    </tr>\n",
       "  </tbody>\n",
       "</table>\n",
       "</div>"
      ],
      "text/plain": [
       "                      City  Temperature (C)  Feels Like (C)  Humidity (%)  \\\n",
       "Date                                                                        \n",
       "1979-01-01 00:00:00  Delhi             9.26            7.33            28   \n",
       "1979-01-01 00:01:00  Delhi            14.96           15.25            68   \n",
       "1979-01-01 00:02:00  Delhi             3.93            2.00            33   \n",
       "1979-01-01 00:03:00  Delhi            11.46           10.71            35   \n",
       "\n",
       "                     Pressure (hPa) Weather Description  Wind Speed (m/s)  \\\n",
       "Date                                                                        \n",
       "1979-01-01 00:00:00            1086               clear              2.42   \n",
       "1979-01-01 00:01:00             930                cold              1.23   \n",
       "1979-01-01 00:02:00             990               windy              0.57   \n",
       "1979-01-01 00:03:00            1034               windy              3.55   \n",
       "\n",
       "                     Cloudiness (%)  Rain (1h mm)              Sunrise  \\\n",
       "Date                                                                     \n",
       "1979-01-01 00:00:00               0          3.91  1979-01-01 06:29:00   \n",
       "1979-01-01 00:01:00              49          5.16  1979-01-01 06:30:00   \n",
       "1979-01-01 00:02:00              33          5.16  1979-01-01 06:28:00   \n",
       "1979-01-01 00:03:00              48          0.60  1979-01-01 06:32:00   \n",
       "\n",
       "                                  Sunset  \n",
       "Date                                      \n",
       "1979-01-01 00:00:00  1979-01-01 18:31:00  \n",
       "1979-01-01 00:01:00  1979-01-01 18:31:00  \n",
       "1979-01-01 00:02:00  1979-01-01 18:28:00  \n",
       "1979-01-01 00:03:00  1979-01-01 18:32:00  "
      ]
     },
     "execution_count": 5,
     "metadata": {},
     "output_type": "execute_result"
    }
   ],
   "source": [
    "df=df.set_index('Date')\n",
    "df.head(4)"
   ]
  },
  {
   "cell_type": "code",
   "execution_count": 6,
   "id": "6deee922",
   "metadata": {},
   "outputs": [
    {
     "name": "stderr",
     "output_type": "stream",
     "text": [
      "C:\\Users\\cks12\\AppData\\Local\\Temp\\ipykernel_2616\\563895720.py:1: FutureWarning: The default value of numeric_only in DataFrameGroupBy.mean is deprecated. In a future version, numeric_only will default to False. Either specify numeric_only or select only columns which should be valid for the function.\n",
      "  df=df.resample('D').mean()\n"
     ]
    }
   ],
   "source": [
    "df=df.resample('D').mean()"
   ]
  },
  {
   "cell_type": "code",
   "execution_count": 7,
   "id": "f7ff664d",
   "metadata": {},
   "outputs": [],
   "source": [
    "import findspark\n",
    "findspark.init(r'C:\\spark\\spark-3.5.2-bin-hadoop3')\n",
    "\n",
    "from pyspark.sql import SparkSession\n",
    "# Create a Spark session\n",
    "spark = SparkSession.builder.master(\"local\").appName(\"PySpark_Jupyter\").getOrCreate()"
   ]
  },
  {
   "cell_type": "code",
   "execution_count": 8,
   "id": "fe0f4f4f",
   "metadata": {},
   "outputs": [],
   "source": [
    "spark_df=spark.createDataFrame(df)"
   ]
  },
  {
   "cell_type": "code",
   "execution_count": 9,
   "id": "83845f9e",
   "metadata": {},
   "outputs": [
    {
     "name": "stdout",
     "output_type": "stream",
     "text": [
      "+------------------+\n",
      "|   Temperature (C)|\n",
      "+------------------+\n",
      "|13.502048611111112|\n",
      "|13.546368055555556|\n",
      "|13.347777777777777|\n",
      "|13.413381944444446|\n",
      "+------------------+\n",
      "only showing top 4 rows\n",
      "\n"
     ]
    }
   ],
   "source": [
    "\n",
    "spark_df.select('Temperature (C)').show(4)"
   ]
  },
  {
   "cell_type": "code",
   "execution_count": 9,
   "id": "cfb92e0f",
   "metadata": {},
   "outputs": [
    {
     "data": {
      "text/html": [
       "<div>\n",
       "<style scoped>\n",
       "    .dataframe tbody tr th:only-of-type {\n",
       "        vertical-align: middle;\n",
       "    }\n",
       "\n",
       "    .dataframe tbody tr th {\n",
       "        vertical-align: top;\n",
       "    }\n",
       "\n",
       "    .dataframe thead th {\n",
       "        text-align: right;\n",
       "    }\n",
       "</style>\n",
       "<table border=\"1\" class=\"dataframe\">\n",
       "  <thead>\n",
       "    <tr style=\"text-align: right;\">\n",
       "      <th></th>\n",
       "      <th>Temperature (C)</th>\n",
       "    </tr>\n",
       "    <tr>\n",
       "      <th>Date</th>\n",
       "      <th></th>\n",
       "    </tr>\n",
       "  </thead>\n",
       "  <tbody>\n",
       "    <tr>\n",
       "      <th>2023-01-01</th>\n",
       "      <td>13.646854</td>\n",
       "    </tr>\n",
       "    <tr>\n",
       "      <th>2023-01-02</th>\n",
       "      <td>13.356340</td>\n",
       "    </tr>\n",
       "    <tr>\n",
       "      <th>2023-01-03</th>\n",
       "      <td>13.531757</td>\n",
       "    </tr>\n",
       "    <tr>\n",
       "      <th>2023-01-04</th>\n",
       "      <td>13.592799</td>\n",
       "    </tr>\n",
       "  </tbody>\n",
       "</table>\n",
       "</div>"
      ],
      "text/plain": [
       "            Temperature (C)\n",
       "Date                       \n",
       "2023-01-01        13.646854\n",
       "2023-01-02        13.356340\n",
       "2023-01-03        13.531757\n",
       "2023-01-04        13.592799"
      ]
     },
     "execution_count": 9,
     "metadata": {},
     "output_type": "execute_result"
    }
   ],
   "source": [
    "trainDF=df[\"2023-01-01\":\"2024-07-31\"][['Temperature (C)']]\n",
    "trainDF.head(4)"
   ]
  },
  {
   "cell_type": "code",
   "execution_count": 10,
   "id": "6adeaadf",
   "metadata": {},
   "outputs": [
    {
     "data": {
      "text/html": [
       "<div>\n",
       "<style scoped>\n",
       "    .dataframe tbody tr th:only-of-type {\n",
       "        vertical-align: middle;\n",
       "    }\n",
       "\n",
       "    .dataframe tbody tr th {\n",
       "        vertical-align: top;\n",
       "    }\n",
       "\n",
       "    .dataframe thead th {\n",
       "        text-align: right;\n",
       "    }\n",
       "</style>\n",
       "<table border=\"1\" class=\"dataframe\">\n",
       "  <thead>\n",
       "    <tr style=\"text-align: right;\">\n",
       "      <th></th>\n",
       "      <th>Temperature (C)</th>\n",
       "    </tr>\n",
       "    <tr>\n",
       "      <th>Date</th>\n",
       "      <th></th>\n",
       "    </tr>\n",
       "  </thead>\n",
       "  <tbody>\n",
       "    <tr>\n",
       "      <th>2024-10-31</th>\n",
       "      <td>30.015104</td>\n",
       "    </tr>\n",
       "    <tr>\n",
       "      <th>2024-11-01</th>\n",
       "      <td>13.248139</td>\n",
       "    </tr>\n",
       "    <tr>\n",
       "      <th>2024-11-02</th>\n",
       "      <td>13.851750</td>\n",
       "    </tr>\n",
       "    <tr>\n",
       "      <th>2024-11-03</th>\n",
       "      <td>13.363451</td>\n",
       "    </tr>\n",
       "  </tbody>\n",
       "</table>\n",
       "</div>"
      ],
      "text/plain": [
       "            Temperature (C)\n",
       "Date                       \n",
       "2024-10-31        30.015104\n",
       "2024-11-01        13.248139\n",
       "2024-11-02        13.851750\n",
       "2024-11-03        13.363451"
      ]
     },
     "execution_count": 10,
     "metadata": {},
     "output_type": "execute_result"
    }
   ],
   "source": [
    "validDF=df[\"2024-08-01\":\"2024-12-31\"][['Temperature (C)']]\n",
    "validDF.tail(4)"
   ]
  },
  {
   "cell_type": "code",
   "execution_count": 11,
   "id": "65888d29",
   "metadata": {},
   "outputs": [],
   "source": [
    "from tensorflow.keras.preprocessing.sequence import TimeseriesGenerator"
   ]
  },
  {
   "cell_type": "code",
   "execution_count": 12,
   "id": "a53cb499",
   "metadata": {},
   "outputs": [],
   "source": [
    "length=30\n",
    "batch_size=1\n",
    "generator=TimeseriesGenerator(trainDF.to_numpy(),trainDF.to_numpy(),length=length,batch_size=batch_size)\n"
   ]
  },
  {
   "cell_type": "code",
   "execution_count": 13,
   "id": "b3b65213",
   "metadata": {},
   "outputs": [],
   "source": [
    "v_generator=TimeseriesGenerator(validDF.to_numpy(),validDF.to_numpy(),length=length,batch_size=batch_size)"
   ]
  },
  {
   "cell_type": "code",
   "execution_count": 14,
   "id": "100a0c25",
   "metadata": {},
   "outputs": [],
   "source": [
    "X,y=generator[0]"
   ]
  },
  {
   "cell_type": "code",
   "execution_count": 15,
   "id": "cf106fec",
   "metadata": {},
   "outputs": [
    {
     "data": {
      "text/plain": [
       "array([[[13.64685417],\n",
       "        [13.35634028],\n",
       "        [13.53175694],\n",
       "        [13.59279861],\n",
       "        [13.54286806],\n",
       "        [13.62872917],\n",
       "        [13.41433333],\n",
       "        [13.56252778],\n",
       "        [13.42338889],\n",
       "        [13.45665278],\n",
       "        [13.40870833],\n",
       "        [13.22560417],\n",
       "        [13.58500694],\n",
       "        [13.79552083],\n",
       "        [13.3135625 ],\n",
       "        [13.78759028],\n",
       "        [13.45129861],\n",
       "        [13.55849306],\n",
       "        [13.25152083],\n",
       "        [13.4795625 ],\n",
       "        [13.34944444],\n",
       "        [13.41608333],\n",
       "        [13.47752778],\n",
       "        [13.5718125 ],\n",
       "        [13.66966667],\n",
       "        [13.75010417],\n",
       "        [13.60811111],\n",
       "        [13.59699306],\n",
       "        [14.08741667],\n",
       "        [13.21000694]]])"
      ]
     },
     "execution_count": 15,
     "metadata": {},
     "output_type": "execute_result"
    }
   ],
   "source": [
    "X"
   ]
  },
  {
   "cell_type": "code",
   "execution_count": 16,
   "id": "c584b766",
   "metadata": {},
   "outputs": [
    {
     "data": {
      "text/plain": [
       "array([[13.50989583]])"
      ]
     },
     "execution_count": 16,
     "metadata": {},
     "output_type": "execute_result"
    }
   ],
   "source": [
    "y"
   ]
  },
  {
   "cell_type": "code",
   "execution_count": 17,
   "id": "bec16869",
   "metadata": {},
   "outputs": [
    {
     "data": {
      "text/plain": [
       "array([[[13.35634028],\n",
       "        [13.53175694],\n",
       "        [13.59279861],\n",
       "        [13.54286806],\n",
       "        [13.62872917],\n",
       "        [13.41433333],\n",
       "        [13.56252778],\n",
       "        [13.42338889],\n",
       "        [13.45665278],\n",
       "        [13.40870833],\n",
       "        [13.22560417],\n",
       "        [13.58500694],\n",
       "        [13.79552083],\n",
       "        [13.3135625 ],\n",
       "        [13.78759028],\n",
       "        [13.45129861],\n",
       "        [13.55849306],\n",
       "        [13.25152083],\n",
       "        [13.4795625 ],\n",
       "        [13.34944444],\n",
       "        [13.41608333],\n",
       "        [13.47752778],\n",
       "        [13.5718125 ],\n",
       "        [13.66966667],\n",
       "        [13.75010417],\n",
       "        [13.60811111],\n",
       "        [13.59699306],\n",
       "        [14.08741667],\n",
       "        [13.21000694],\n",
       "        [13.50989583]]])"
      ]
     },
     "execution_count": 17,
     "metadata": {},
     "output_type": "execute_result"
    }
   ],
   "source": [
    "X,y=generator[1]\n",
    "X"
   ]
  },
  {
   "cell_type": "code",
   "execution_count": 18,
   "id": "d9fe8621",
   "metadata": {},
   "outputs": [
    {
     "data": {
      "text/plain": [
       "(1, 30, 1)"
      ]
     },
     "execution_count": 18,
     "metadata": {},
     "output_type": "execute_result"
    }
   ],
   "source": [
    "X.shape"
   ]
  },
  {
   "cell_type": "code",
   "execution_count": 19,
   "id": "4eedd04b",
   "metadata": {},
   "outputs": [
    {
     "data": {
      "text/plain": [
       "array([[13.27096528]])"
      ]
     },
     "execution_count": 19,
     "metadata": {},
     "output_type": "execute_result"
    }
   ],
   "source": [
    "y"
   ]
  },
  {
   "cell_type": "code",
   "execution_count": 20,
   "id": "bc0a60ca",
   "metadata": {},
   "outputs": [],
   "source": [
    "import tensorflow.keras\n",
    "from tensorflow.keras.models import Sequential\n",
    "from tensorflow.keras.layers import Dense,LSTM, GRU,SimpleRNN\n"
   ]
  },
  {
   "cell_type": "code",
   "execution_count": 21,
   "id": "5ccf5645",
   "metadata": {},
   "outputs": [],
   "source": [
    "model=Sequential()\n",
    "#model.add(LSTM(32,input_shape=[10,1],return_sequences=True))\n",
    "model.add(LSTM(32,input_shape=[length,1]))\n",
    "model.add(Dense(1))"
   ]
  },
  {
   "cell_type": "code",
   "execution_count": 26,
   "id": "ded7d93f",
   "metadata": {},
   "outputs": [],
   "source": [
    "model.compile(optimizer=\"adam\", loss=\"mse\")"
   ]
  },
  {
   "cell_type": "code",
   "execution_count": 27,
   "id": "31b60ccd",
   "metadata": {},
   "outputs": [
    {
     "name": "stdout",
     "output_type": "stream",
     "text": [
      "Model: \"sequential\"\n",
      "_________________________________________________________________\n",
      " Layer (type)                Output Shape              Param #   \n",
      "=================================================================\n",
      " lstm (LSTM)                 (None, 32)                4352      \n",
      "                                                                 \n",
      " dense (Dense)               (None, 1)                 33        \n",
      "                                                                 \n",
      "=================================================================\n",
      "Total params: 4385 (17.13 KB)\n",
      "Trainable params: 4385 (17.13 KB)\n",
      "Non-trainable params: 0 (0.00 Byte)\n",
      "_________________________________________________________________\n"
     ]
    }
   ],
   "source": [
    "model.summary()"
   ]
  },
  {
   "cell_type": "code",
   "execution_count": 28,
   "id": "caf3a4de",
   "metadata": {},
   "outputs": [],
   "source": [
    "from tensorflow.keras.callbacks import EarlyStopping\n",
    "early_stop=EarlyStopping(monitor='val_loss',patience=3)\n"
   ]
  },
  {
   "cell_type": "code",
   "execution_count": 29,
   "id": "0ef51158",
   "metadata": {},
   "outputs": [
    {
     "name": "stdout",
     "output_type": "stream",
     "text": [
      "Epoch 1/100\n",
      "548/548 [==============================] - 15s 20ms/step - loss: 473.8900 - val_loss: 129.0323\n",
      "Epoch 2/100\n",
      "548/548 [==============================] - 10s 19ms/step - loss: 112.4553 - val_loss: 13.9713\n",
      "Epoch 3/100\n",
      "548/548 [==============================] - 11s 21ms/step - loss: 30.9134 - val_loss: 5.6745\n",
      "Epoch 4/100\n",
      "548/548 [==============================] - 11s 19ms/step - loss: 10.4851 - val_loss: 5.0473\n",
      "Epoch 5/100\n",
      "548/548 [==============================] - 10s 19ms/step - loss: 4.9683 - val_loss: 4.8207\n",
      "Epoch 6/100\n",
      "548/548 [==============================] - 10s 18ms/step - loss: 3.8462 - val_loss: 6.0444\n",
      "Epoch 7/100\n",
      "548/548 [==============================] - 11s 21ms/step - loss: 3.6903 - val_loss: 4.4247\n",
      "Epoch 8/100\n",
      "548/548 [==============================] - 11s 20ms/step - loss: 3.3816 - val_loss: 4.4141\n",
      "Epoch 9/100\n",
      "548/548 [==============================] - 11s 20ms/step - loss: 3.3059 - val_loss: 4.4759\n",
      "Epoch 10/100\n",
      "548/548 [==============================] - 11s 20ms/step - loss: 3.2309 - val_loss: 4.3964\n",
      "Epoch 11/100\n",
      "548/548 [==============================] - 11s 21ms/step - loss: 3.3372 - val_loss: 4.5962\n",
      "Epoch 12/100\n",
      "548/548 [==============================] - 11s 20ms/step - loss: 3.1650 - val_loss: 4.2963\n",
      "Epoch 13/100\n",
      "548/548 [==============================] - 10s 18ms/step - loss: 3.1493 - val_loss: 4.3832\n",
      "Epoch 14/100\n",
      "548/548 [==============================] - 11s 20ms/step - loss: 3.0278 - val_loss: 4.3215\n",
      "Epoch 15/100\n",
      "548/548 [==============================] - 10s 19ms/step - loss: 3.0922 - val_loss: 4.4032\n"
     ]
    }
   ],
   "source": [
    "history=model.fit(generator,validation_data=v_generator,epochs=100,callbacks=[early_stop])"
   ]
  },
  {
   "cell_type": "code",
   "execution_count": 30,
   "id": "aeafb58a",
   "metadata": {},
   "outputs": [],
   "source": [
    "d=pd.DataFrame(model.history.history)"
   ]
  },
  {
   "cell_type": "code",
   "execution_count": 31,
   "id": "8e7464b8",
   "metadata": {},
   "outputs": [
    {
     "data": {
      "text/plain": [
       "<Axes: >"
      ]
     },
     "execution_count": 31,
     "metadata": {},
     "output_type": "execute_result"
    },
    {
     "data": {
      "image/png": "[encoded data removed]",
      "text/plain": [
       "<Figure size 640x480 with 1 Axes>"
      ]
     },
     "metadata": {},
     "output_type": "display_data"
    }
   ],
   "source": [
    "import matplotlib.pyplot as plt\n",
    "d.plot()"
   ]
  },
  {
   "cell_type": "code",
   "execution_count": 37,
   "id": "9ed97a4d",
   "metadata": {},
   "outputs": [],
   "source": [
    "first_eval=trainDF[-length:]\n"
   ]
  },
  {
   "cell_type": "code",
   "execution_count": 38,
   "id": "3e9eb2db",
   "metadata": {},
   "outputs": [
    {
     "data": {
      "text/html": [
       "<div>\n",
       "<style scoped>\n",
       "    .dataframe tbody tr th:only-of-type {\n",
       "        vertical-align: middle;\n",
       "    }\n",
       "\n",
       "    .dataframe tbody tr th {\n",
       "        vertical-align: top;\n",
       "    }\n",
       "\n",
       "    .dataframe thead th {\n",
       "        text-align: right;\n",
       "    }\n",
       "</style>\n",
       "<table border=\"1\" class=\"dataframe\">\n",
       "  <thead>\n",
       "    <tr style=\"text-align: right;\">\n",
       "      <th></th>\n",
       "      <th>Temperature (C)</th>\n",
       "    </tr>\n",
       "    <tr>\n",
       "      <th>Date</th>\n",
       "      <th></th>\n",
       "    </tr>\n",
       "  </thead>\n",
       "  <tbody>\n",
       "    <tr>\n",
       "      <th>2024-07-02</th>\n",
       "      <td>30.091965</td>\n",
       "    </tr>\n",
       "    <tr>\n",
       "      <th>2024-07-03</th>\n",
       "      <td>29.997340</td>\n",
       "    </tr>\n",
       "    <tr>\n",
       "      <th>2024-07-04</th>\n",
       "      <td>30.031979</td>\n",
       "    </tr>\n",
       "    <tr>\n",
       "      <th>2024-07-05</th>\n",
       "      <td>29.846924</td>\n",
       "    </tr>\n",
       "    <tr>\n",
       "      <th>2024-07-06</th>\n",
       "      <td>30.088514</td>\n",
       "    </tr>\n",
       "    <tr>\n",
       "      <th>2024-07-07</th>\n",
       "      <td>29.991625</td>\n",
       "    </tr>\n",
       "    <tr>\n",
       "      <th>2024-07-08</th>\n",
       "      <td>30.074639</td>\n",
       "    </tr>\n",
       "    <tr>\n",
       "      <th>2024-07-09</th>\n",
       "      <td>29.901632</td>\n",
       "    </tr>\n",
       "    <tr>\n",
       "      <th>2024-07-10</th>\n",
       "      <td>30.047889</td>\n",
       "    </tr>\n",
       "    <tr>\n",
       "      <th>2024-07-11</th>\n",
       "      <td>30.034819</td>\n",
       "    </tr>\n",
       "    <tr>\n",
       "      <th>2024-07-12</th>\n",
       "      <td>30.034542</td>\n",
       "    </tr>\n",
       "    <tr>\n",
       "      <th>2024-07-13</th>\n",
       "      <td>30.087500</td>\n",
       "    </tr>\n",
       "    <tr>\n",
       "      <th>2024-07-14</th>\n",
       "      <td>30.143764</td>\n",
       "    </tr>\n",
       "    <tr>\n",
       "      <th>2024-07-15</th>\n",
       "      <td>29.977861</td>\n",
       "    </tr>\n",
       "    <tr>\n",
       "      <th>2024-07-16</th>\n",
       "      <td>29.970653</td>\n",
       "    </tr>\n",
       "    <tr>\n",
       "      <th>2024-07-17</th>\n",
       "      <td>30.101646</td>\n",
       "    </tr>\n",
       "    <tr>\n",
       "      <th>2024-07-18</th>\n",
       "      <td>29.963229</td>\n",
       "    </tr>\n",
       "    <tr>\n",
       "      <th>2024-07-19</th>\n",
       "      <td>29.849750</td>\n",
       "    </tr>\n",
       "    <tr>\n",
       "      <th>2024-07-20</th>\n",
       "      <td>30.005799</td>\n",
       "    </tr>\n",
       "    <tr>\n",
       "      <th>2024-07-21</th>\n",
       "      <td>29.991910</td>\n",
       "    </tr>\n",
       "    <tr>\n",
       "      <th>2024-07-22</th>\n",
       "      <td>29.931222</td>\n",
       "    </tr>\n",
       "    <tr>\n",
       "      <th>2024-07-23</th>\n",
       "      <td>29.946785</td>\n",
       "    </tr>\n",
       "    <tr>\n",
       "      <th>2024-07-24</th>\n",
       "      <td>29.949118</td>\n",
       "    </tr>\n",
       "    <tr>\n",
       "      <th>2024-07-25</th>\n",
       "      <td>29.992340</td>\n",
       "    </tr>\n",
       "    <tr>\n",
       "      <th>2024-07-26</th>\n",
       "      <td>30.041514</td>\n",
       "    </tr>\n",
       "    <tr>\n",
       "      <th>2024-07-27</th>\n",
       "      <td>29.996368</td>\n",
       "    </tr>\n",
       "    <tr>\n",
       "      <th>2024-07-28</th>\n",
       "      <td>30.022243</td>\n",
       "    </tr>\n",
       "    <tr>\n",
       "      <th>2024-07-29</th>\n",
       "      <td>30.045194</td>\n",
       "    </tr>\n",
       "    <tr>\n",
       "      <th>2024-07-30</th>\n",
       "      <td>30.187410</td>\n",
       "    </tr>\n",
       "    <tr>\n",
       "      <th>2024-07-31</th>\n",
       "      <td>30.042153</td>\n",
       "    </tr>\n",
       "  </tbody>\n",
       "</table>\n",
       "</div>"
      ],
      "text/plain": [
       "            Temperature (C)\n",
       "Date                       \n",
       "2024-07-02        30.091965\n",
       "2024-07-03        29.997340\n",
       "2024-07-04        30.031979\n",
       "2024-07-05        29.846924\n",
       "2024-07-06        30.088514\n",
       "2024-07-07        29.991625\n",
       "2024-07-08        30.074639\n",
       "2024-07-09        29.901632\n",
       "2024-07-10        30.047889\n",
       "2024-07-11        30.034819\n",
       "2024-07-12        30.034542\n",
       "2024-07-13        30.087500\n",
       "2024-07-14        30.143764\n",
       "2024-07-15        29.977861\n",
       "2024-07-16        29.970653\n",
       "2024-07-17        30.101646\n",
       "2024-07-18        29.963229\n",
       "2024-07-19        29.849750\n",
       "2024-07-20        30.005799\n",
       "2024-07-21        29.991910\n",
       "2024-07-22        29.931222\n",
       "2024-07-23        29.946785\n",
       "2024-07-24        29.949118\n",
       "2024-07-25        29.992340\n",
       "2024-07-26        30.041514\n",
       "2024-07-27        29.996368\n",
       "2024-07-28        30.022243\n",
       "2024-07-29        30.045194\n",
       "2024-07-30        30.187410\n",
       "2024-07-31        30.042153"
      ]
     },
     "execution_count": 38,
     "metadata": {},
     "output_type": "execute_result"
    }
   ],
   "source": [
    "first_eval"
   ]
  },
  {
   "cell_type": "code",
   "execution_count": 39,
   "id": "c5c5a8d2",
   "metadata": {},
   "outputs": [],
   "source": [
    "current_eval=first_eval.to_numpy().reshape((1,length,1))"
   ]
  },
  {
   "cell_type": "code",
   "execution_count": 40,
   "id": "5b4199fd",
   "metadata": {},
   "outputs": [
    {
     "data": {
      "text/plain": [
       "array([[[30.09196528],\n",
       "        [29.99734028],\n",
       "        [30.03197917],\n",
       "        [29.84692361],\n",
       "        [30.08851389],\n",
       "        [29.991625  ],\n",
       "        [30.07463889],\n",
       "        [29.90163194],\n",
       "        [30.04788889],\n",
       "        [30.03481944],\n",
       "        [30.03454167],\n",
       "        [30.0875    ],\n",
       "        [30.14376389],\n",
       "        [29.97786111],\n",
       "        [29.97065278],\n",
       "        [30.10164583],\n",
       "        [29.96322917],\n",
       "        [29.84975   ],\n",
       "        [30.00579861],\n",
       "        [29.99190972],\n",
       "        [29.93122222],\n",
       "        [29.94678472],\n",
       "        [29.94911806],\n",
       "        [29.99234028],\n",
       "        [30.04151389],\n",
       "        [29.99636806],\n",
       "        [30.02224306],\n",
       "        [30.04519444],\n",
       "        [30.18740972],\n",
       "        [30.04215278]]])"
      ]
     },
     "execution_count": 40,
     "metadata": {},
     "output_type": "execute_result"
    }
   ],
   "source": [
    "current_eval"
   ]
  },
  {
   "cell_type": "code",
   "execution_count": 41,
   "id": "901bcc0d",
   "metadata": {},
   "outputs": [
    {
     "name": "stdout",
     "output_type": "stream",
     "text": [
      "1/1 [==============================] - 1s 946ms/step\n",
      "1/1 [==============================] - 0s 43ms/step\n",
      "1/1 [==============================] - 0s 54ms/step\n",
      "1/1 [==============================] - 0s 59ms/step\n",
      "1/1 [==============================] - 0s 57ms/step\n",
      "1/1 [==============================] - 0s 61ms/step\n",
      "1/1 [==============================] - 0s 57ms/step\n",
      "1/1 [==============================] - 0s 58ms/step\n",
      "1/1 [==============================] - 0s 65ms/step\n",
      "1/1 [==============================] - 0s 56ms/step\n",
      "1/1 [==============================] - 0s 55ms/step\n",
      "1/1 [==============================] - 0s 43ms/step\n",
      "1/1 [==============================] - 0s 59ms/step\n",
      "1/1 [==============================] - 0s 55ms/step\n",
      "1/1 [==============================] - 0s 62ms/step\n",
      "1/1 [==============================] - 0s 49ms/step\n",
      "1/1 [==============================] - 0s 51ms/step\n",
      "1/1 [==============================] - 0s 65ms/step\n",
      "1/1 [==============================] - 0s 70ms/step\n",
      "1/1 [==============================] - 0s 57ms/step\n",
      "1/1 [==============================] - 0s 69ms/step\n",
      "1/1 [==============================] - 0s 65ms/step\n",
      "1/1 [==============================] - 0s 65ms/step\n",
      "1/1 [==============================] - 0s 62ms/step\n",
      "1/1 [==============================] - 0s 52ms/step\n",
      "1/1 [==============================] - 0s 45ms/step\n",
      "1/1 [==============================] - 0s 52ms/step\n",
      "1/1 [==============================] - 0s 68ms/step\n",
      "1/1 [==============================] - 0s 49ms/step\n",
      "1/1 [==============================] - 0s 42ms/step\n",
      "1/1 [==============================] - 0s 42ms/step\n",
      "1/1 [==============================] - 0s 55ms/step\n",
      "1/1 [==============================] - 0s 52ms/step\n",
      "1/1 [==============================] - 0s 60ms/step\n",
      "1/1 [==============================] - 0s 45ms/step\n",
      "1/1 [==============================] - 0s 55ms/step\n",
      "1/1 [==============================] - 0s 47ms/step\n",
      "1/1 [==============================] - 0s 42ms/step\n",
      "1/1 [==============================] - 0s 43ms/step\n",
      "1/1 [==============================] - 0s 58ms/step\n",
      "1/1 [==============================] - 0s 55ms/step\n",
      "1/1 [==============================] - 0s 52ms/step\n",
      "1/1 [==============================] - 0s 62ms/step\n",
      "1/1 [==============================] - 0s 69ms/step\n",
      "1/1 [==============================] - 0s 81ms/step\n",
      "1/1 [==============================] - 0s 44ms/step\n",
      "1/1 [==============================] - 0s 47ms/step\n",
      "1/1 [==============================] - 0s 58ms/step\n",
      "1/1 [==============================] - 0s 47ms/step\n",
      "1/1 [==============================] - 0s 64ms/step\n",
      "1/1 [==============================] - 0s 59ms/step\n",
      "1/1 [==============================] - 0s 46ms/step\n",
      "1/1 [==============================] - 0s 59ms/step\n",
      "1/1 [==============================] - 0s 58ms/step\n",
      "1/1 [==============================] - 0s 52ms/step\n",
      "1/1 [==============================] - 0s 51ms/step\n",
      "1/1 [==============================] - 0s 58ms/step\n",
      "1/1 [==============================] - 0s 68ms/step\n",
      "1/1 [==============================] - 0s 60ms/step\n",
      "1/1 [==============================] - 0s 44ms/step\n",
      "1/1 [==============================] - 0s 59ms/step\n",
      "1/1 [==============================] - 0s 52ms/step\n",
      "1/1 [==============================] - 0s 61ms/step\n",
      "1/1 [==============================] - 0s 44ms/step\n",
      "1/1 [==============================] - 0s 42ms/step\n",
      "1/1 [==============================] - 0s 53ms/step\n",
      "1/1 [==============================] - 0s 49ms/step\n",
      "1/1 [==============================] - 0s 46ms/step\n",
      "1/1 [==============================] - 0s 44ms/step\n",
      "1/1 [==============================] - 0s 39ms/step\n",
      "1/1 [==============================] - 0s 43ms/step\n",
      "1/1 [==============================] - 0s 46ms/step\n",
      "1/1 [==============================] - 0s 50ms/step\n",
      "1/1 [==============================] - 0s 41ms/step\n",
      "1/1 [==============================] - 0s 44ms/step\n",
      "1/1 [==============================] - 0s 42ms/step\n",
      "1/1 [==============================] - 0s 44ms/step\n",
      "1/1 [==============================] - 0s 45ms/step\n",
      "1/1 [==============================] - 0s 39ms/step\n",
      "1/1 [==============================] - 0s 41ms/step\n",
      "1/1 [==============================] - 0s 41ms/step\n",
      "1/1 [==============================] - 0s 41ms/step\n",
      "1/1 [==============================] - 0s 55ms/step\n",
      "1/1 [==============================] - 0s 51ms/step\n",
      "1/1 [==============================] - 0s 56ms/step\n",
      "1/1 [==============================] - 0s 39ms/step\n",
      "1/1 [==============================] - 0s 40ms/step\n",
      "1/1 [==============================] - 0s 61ms/step\n",
      "1/1 [==============================] - 0s 59ms/step\n",
      "1/1 [==============================] - 0s 44ms/step\n",
      "1/1 [==============================] - 0s 39ms/step\n",
      "1/1 [==============================] - 0s 42ms/step\n",
      "1/1 [==============================] - 0s 42ms/step\n",
      "1/1 [==============================] - 0s 40ms/step\n",
      "1/1 [==============================] - 0s 41ms/step\n"
     ]
    }
   ],
   "source": [
    "import numpy as np\n",
    "test_pred=[]\n",
    "for i in range(95):\n",
    "    curr_pred=model.predict(current_eval)[0]\n",
    "    test_pred.append(curr_pred)\n",
    "    current_eval=np.append(current_eval[:,1:,:],[[curr_pred]],axis=1)"
   ]
  },
  {
   "cell_type": "code",
   "execution_count": 42,
   "id": "deef98d9",
   "metadata": {},
   "outputs": [],
   "source": [
    "validDF['predict2']=test_pred"
   ]
  },
  {
   "cell_type": "code",
   "execution_count": 48,
   "id": "5644c2a9",
   "metadata": {},
   "outputs": [
    {
     "data": {
      "text/html": [
       "<div>\n",
       "<style scoped>\n",
       "    .dataframe tbody tr th:only-of-type {\n",
       "        vertical-align: middle;\n",
       "    }\n",
       "\n",
       "    .dataframe tbody tr th {\n",
       "        vertical-align: top;\n",
       "    }\n",
       "\n",
       "    .dataframe thead th {\n",
       "        text-align: right;\n",
       "    }\n",
       "</style>\n",
       "<table border=\"1\" class=\"dataframe\">\n",
       "  <thead>\n",
       "    <tr style=\"text-align: right;\">\n",
       "      <th></th>\n",
       "      <th>Temperature (C)</th>\n",
       "      <th>predict2</th>\n",
       "    </tr>\n",
       "    <tr>\n",
       "      <th>Date</th>\n",
       "      <th></th>\n",
       "      <th></th>\n",
       "    </tr>\n",
       "  </thead>\n",
       "  <tbody>\n",
       "    <tr>\n",
       "      <th>2024-11-01</th>\n",
       "      <td>13.248139</td>\n",
       "      <td>[13.515883]</td>\n",
       "    </tr>\n",
       "    <tr>\n",
       "      <th>2024-11-02</th>\n",
       "      <td>13.851750</td>\n",
       "      <td>[13.515883]</td>\n",
       "    </tr>\n",
       "    <tr>\n",
       "      <th>2024-11-03</th>\n",
       "      <td>13.363451</td>\n",
       "      <td>[13.515883]</td>\n",
       "    </tr>\n",
       "  </tbody>\n",
       "</table>\n",
       "</div>"
      ],
      "text/plain": [
       "            Temperature (C)     predict2\n",
       "Date                                    \n",
       "2024-11-01        13.248139  [13.515883]\n",
       "2024-11-02        13.851750  [13.515883]\n",
       "2024-11-03        13.363451  [13.515883]"
      ]
     },
     "execution_count": 48,
     "metadata": {},
     "output_type": "execute_result"
    }
   ],
   "source": [
    "validDF.tail(3)"
   ]
  },
  {
   "cell_type": "code",
   "execution_count": 49,
   "id": "adea9bfd",
   "metadata": {},
   "outputs": [
    {
     "data": {
      "text/html": [
       "<div>\n",
       "<style scoped>\n",
       "    .dataframe tbody tr th:only-of-type {\n",
       "        vertical-align: middle;\n",
       "    }\n",
       "\n",
       "    .dataframe tbody tr th {\n",
       "        vertical-align: top;\n",
       "    }\n",
       "\n",
       "    .dataframe thead th {\n",
       "        text-align: right;\n",
       "    }\n",
       "</style>\n",
       "<table border=\"1\" class=\"dataframe\">\n",
       "  <thead>\n",
       "    <tr style=\"text-align: right;\">\n",
       "      <th></th>\n",
       "      <th>Temperature (C)</th>\n",
       "      <th>predict2</th>\n",
       "    </tr>\n",
       "    <tr>\n",
       "      <th>Date</th>\n",
       "      <th></th>\n",
       "      <th></th>\n",
       "    </tr>\n",
       "  </thead>\n",
       "  <tbody>\n",
       "    <tr>\n",
       "      <th>2024-08-01</th>\n",
       "      <td>30.066000</td>\n",
       "      <td>[29.45961]</td>\n",
       "    </tr>\n",
       "    <tr>\n",
       "      <th>2024-08-02</th>\n",
       "      <td>30.062354</td>\n",
       "      <td>[28.746983]</td>\n",
       "    </tr>\n",
       "    <tr>\n",
       "      <th>2024-08-03</th>\n",
       "      <td>29.984583</td>\n",
       "      <td>[27.880032]</td>\n",
       "    </tr>\n",
       "  </tbody>\n",
       "</table>\n",
       "</div>"
      ],
      "text/plain": [
       "            Temperature (C)     predict2\n",
       "Date                                    \n",
       "2024-08-01        30.066000   [29.45961]\n",
       "2024-08-02        30.062354  [28.746983]\n",
       "2024-08-03        29.984583  [27.880032]"
      ]
     },
     "execution_count": 49,
     "metadata": {},
     "output_type": "execute_result"
    }
   ],
   "source": [
    "validDF.head(3)"
   ]
  },
  {
   "cell_type": "code",
   "execution_count": null,
   "id": "2b9d33b2",
   "metadata": {},
   "outputs": [],
   "source": []
  }
 ],
 "metadata": {
  "kernelspec": {
   "display_name": "Python 3 (ipykernel)",
   "language": "python",
   "name": "python3"
  },
  "language_info": {
   "codemirror_mode": {
    "name": "ipython",
    "version": 3
   },
   "file_extension": ".py",
   "mimetype": "text/x-python",
   "name": "python",
   "nbconvert_exporter": "python",
   "pygments_lexer": "ipython3",
   "version": "3.11.4"
  }
 },
 "nbformat": 4,
 "nbformat_minor": 5
}
